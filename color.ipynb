{
 "cells": [
  {
   "cell_type": "markdown",
   "metadata": {},
   "source": [
    "## Configuration"
   ]
  },
  {
   "cell_type": "code",
   "execution_count": null,
   "metadata": {},
   "outputs": [],
   "source": [
    "# Generic imports and configuration.\n",
    "%matplotlib inline\n",
    "from matplotlib.pyplot import imshow, subplots\n",
    "from numpy import array, zeros, ones\n",
    "from colorsys import hsv_to_rgb\n",
    "from random import randint\n",
    "\n",
    "# Import Pybricks Colors.\n",
    "from pybricks.parameters import Color"
   ]
  },
  {
   "cell_type": "markdown",
   "metadata": {},
   "source": [
    "## Detectable colors"
   ]
  },
  {
   "cell_type": "code",
   "execution_count": null,
   "metadata": {},
   "outputs": [],
   "source": [
    "# Load the default color map. We still need to revise BLACK to set a nonzero value to distinguish from None.\n",
    "Color.BLACK = Color(0, 0, 20, 'BLACK')\n",
    "color_map = (Color.RED, Color.BLUE, Color.YELLOW, Color.GREEN, Color.BLACK, Color.WHITE, None)"
   ]
  },
  {
   "cell_type": "markdown",
   "metadata": {},
   "source": [
    "## Color map implementation"
   ]
  },
  {
   "cell_type": "code",
   "execution_count": null,
   "metadata": {},
   "outputs": [],
   "source": [
    "# Integer implementation of Python's builtin hsv_to_rgb.\n",
    "def pybricks_hsv_to_rgb(h, s, v):\n",
    "    return [int(c*255) for c in hsv_to_rgb(h/360, s/100, v/100)]\n",
    "\n",
    "# Highest possible error cost between measured and discrete color.\n",
    "INT32_MAX = 2147483547\n",
    "\n",
    "# The currently implemented HSV cost function. This is a simplistic implementation\n",
    "# to keep the new code working like the old color detection algorithm. The purpose\n",
    "# of this Jupyter Notebook is to improve this particular function and review the\n",
    "# result below.\n",
    "def pybricks_hsv_cost(x, c):\n",
    "    if x.s < 40 or x.v <= 5:\n",
    "        if c.s == 100:\n",
    "            return INT32_MAX\n",
    "        return x.v - c.v if x.v > c.v else c.v - x.v\n",
    "\n",
    "    hue_error = c.h - x.h if c.h > x.h else x.h - c.h;\n",
    "    return hue_error if hue_error <= 180 else 360 - hue_error\n",
    "\n",
    "# Given a measured color, loop through all colors in color_map to find the best match.\n",
    "def pybricks_discretize_color(measured):\n",
    "\n",
    "    # Initially there is no match and the errors are at a maximum.\n",
    "    match = None\n",
    "    cost_now = INT32_MAX\n",
    "    cost_min = INT32_MAX\n",
    "\n",
    "    # Iterate through candidate colors.\n",
    "    for compare in color_map:\n",
    "        \n",
    "        # For None, give values for comparison with measurement.\n",
    "        if compare is None:\n",
    "            compare = Color(0, 0, 0, 'None')\n",
    "\n",
    "        # Evaluate the cost function for this candidate\n",
    "        cost_now = pybricks_hsv_cost(measured, compare)\n",
    "\n",
    "        # Update the minimum detected so far, and the corresponding matching color.\n",
    "        if cost_now < cost_min:\n",
    "            cost_min = cost_now\n",
    "            match = compare\n",
    "\n",
    "    # If None was the best match, return corresponding object.\n",
    "    if match is not None and match.name == 'None':\n",
    "        match = None\n",
    "            \n",
    "    return match"
   ]
  },
  {
   "cell_type": "markdown",
   "metadata": {},
   "source": [
    "## Visualize"
   ]
  },
  {
   "cell_type": "code",
   "execution_count": null,
   "metadata": {},
   "outputs": [],
   "source": [
    "# We make several HUE-VALUE plots for several steps of saturation.\n",
    "SATURATION_INCREMENT = 25\n",
    "\n",
    "# Define hue, saturation and value ranges.\n",
    "saturation_range = range(100, -SATURATION_INCREMENT, -SATURATION_INCREMENT)\n",
    "hue_range = range(360)\n",
    "value_range = range(0, 101)\n",
    "\n",
    "# Create the figure and its axes.\n",
    "figure, axes = subplots(nrows=len(saturation_range), ncols=2, figsize=(12, 6*len(saturation_range)))\n",
    "\n",
    "# Create empty matrices to hold measured and discretized colors.\n",
    "image_measured = zeros((101, 360, 3), dtype=int)\n",
    "image_discrete = zeros((101, 360, 4), dtype=int)\n",
    "\n",
    "# Create a graph with a few grey lines so that we can see 0-alpha of the overlay.\n",
    "image_alphadot = ones((101, 360, 3), dtype=int)*255\n",
    "for i in hue_range:\n",
    "    if (i//10) % 2:\n",
    "        for j in value_range:\n",
    "            image_alphadot[j, i] = (180, 180, 180)\n",
    "\n",
    "# Loop through all discrete saturation steps that we will visualize.\n",
    "for saturation_index, saturation in enumerate(saturation_range):\n",
    "\n",
    "    # Loop through values 0--100.\n",
    "    for value in value_range:\n",
    "        # Loop through hues 0--359.\n",
    "        for hue in hue_range:\n",
    "            \n",
    "            # Convert h, s, v for this iteration to RGB for visalization.\n",
    "            image_measured[value][hue][:] = pybricks_hsv_to_rgb(hue, saturation, value)\n",
    "\n",
    "            # Get the discrete color for this h, s, v.\n",
    "            discrete = pybricks_discretize_color(Color(hue, saturation, value))\n",
    "            \n",
    "            # Display the discrete color.\n",
    "            if discrete is None:\n",
    "                # If it's None, don't show anything.\n",
    "                image_discrete[value][hue][:] = 0, 0, 0, 0\n",
    "            else:\n",
    "                # Convert discrete h, s, v, to RGB or visualization.\n",
    "                r, g, b = pybricks_hsv_to_rgb(discrete.h, discrete.s, discrete.v)\n",
    "                image_discrete[value][hue][:] = r, g, b, 255\n",
    "\n",
    "    # Plot the measured and the discrete colors for the current saturation step.\n",
    "    axes[saturation_index][0].imshow(image_measured, aspect=3.6, origin='lower')\n",
    "    axes[saturation_index][1].imshow(image_alphadot, aspect=3.6, origin='lower')\n",
    "    axes[saturation_index][1].imshow(image_discrete, aspect=3.6, origin='lower')"
   ]
  }
 ],
 "metadata": {
  "kernelspec": {
   "display_name": "Python 3",
   "language": "python",
   "name": "python3"
  },
  "language_info": {
   "codemirror_mode": {
    "name": "ipython",
    "version": 3
   },
   "file_extension": ".py",
   "mimetype": "text/x-python",
   "name": "python",
   "nbconvert_exporter": "python",
   "pygments_lexer": "ipython3",
   "version": "3.8.2"
  }
 },
 "nbformat": 4,
 "nbformat_minor": 4
}
