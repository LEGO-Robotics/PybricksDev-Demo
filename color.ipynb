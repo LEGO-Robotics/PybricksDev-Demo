{
 "cells": [
  {
   "cell_type": "code",
   "execution_count": null,
   "metadata": {},
   "outputs": [],
   "source": [
    "%matplotlib inline\n",
    "from matplotlib.pyplot import imshow, subplots\n",
    "from numpy import array, zeros, ones\n",
    "from colorsys import hsv_to_rgb\n",
    "from pybricks.parameters import Color\n",
    "from random import randint"
   ]
  },
  {
   "cell_type": "code",
   "execution_count": null,
   "metadata": {},
   "outputs": [],
   "source": [
    "Color.BLACK = Color(0, 0, 20, 'BLACK')\n",
    "\n",
    "color_map = (Color.RED, Color.BLUE, Color.YELLOW, Color.GREEN, Color.BLACK, Color.WHITE, None)"
   ]
  },
  {
   "cell_type": "code",
   "execution_count": null,
   "metadata": {},
   "outputs": [],
   "source": [
    "def pybricks_hsv_to_rgb(h, s, v):\n",
    "    return [int(c*255) for c in hsv_to_rgb(h/360, s/100, v/100)]\n",
    "\n",
    "INT32_MAX = 2147483547\n",
    "\n",
    "\n",
    "def pybricks_hsv_cost(x, c):\n",
    "    if x.s < 40 or x.v <= 5:\n",
    "        if c.s == 100:\n",
    "            return INT32_MAX\n",
    "        return x.v - c.v if x.v > c.v else c.v - x.v\n",
    "\n",
    "    hue_error = c.h - x.h if c.h > x.h else x.h - c.h;\n",
    "    return hue_error if hue_error <= 180 else 360 - hue_error\n",
    "\n",
    "def pybricks_discretize_color(measured):\n",
    "\n",
    "    match = None\n",
    "    cost_now = INT32_MAX\n",
    "    cost_min = INT32_MAX\n",
    "\n",
    "    for compare in color_map:\n",
    "        \n",
    "        if compare is None:\n",
    "            compare = Color(0, 0, 0, 'None')\n",
    "\n",
    "        cost_now = pybricks_hsv_cost(measured, compare)\n",
    "\n",
    "        if cost_now < cost_min:\n",
    "            cost_min = cost_now\n",
    "            match = compare\n",
    "\n",
    "    if match is not None and match.name == 'None':\n",
    "        match = None\n",
    "            \n",
    "    return match\n",
    "\n",
    "\n",
    "\n",
    "SATURATION_INCREMENT = 50\n",
    "\n",
    "saturation_range = range(100, -SATURATION_INCREMENT, -SATURATION_INCREMENT)\n",
    "hue_range = range(360)\n",
    "value_range = range(0, 101)\n",
    "\n",
    "figure, axes = subplots(nrows=len(saturation_range), ncols=2, figsize=(12, 6*len(saturation_range)))\n",
    "\n",
    "image_measured = zeros((101, 360, 3), dtype=int)\n",
    "image_discrete = zeros((101, 360, 4), dtype=int)\n",
    "image_alphadot = ones((101, 360, 3), dtype=int)*255\n",
    "\n",
    "for i in hue_range:\n",
    "    if (i//10) % 2:\n",
    "        for j in value_range:\n",
    "            image_alphadot[j, i] = (180, 180, 180)\n",
    "\n",
    "\n",
    "for saturation_index, saturation in enumerate(saturation_range):\n",
    "    for value in value_range:\n",
    "        for hue in hue_range:           \n",
    "            image_measured[value][hue][:] = pybricks_hsv_to_rgb(hue, saturation, value)\n",
    "            \n",
    "            discrete = pybricks_discretize_color(Color(hue, saturation, value))\n",
    "            if discrete is None:\n",
    "                image_discrete[value][hue][:] = 0, 0, 0, 0\n",
    "            else:\n",
    "                r, g, b = pybricks_hsv_to_rgb(discrete.h, discrete.s, discrete.v)\n",
    "                image_discrete[value][hue][:] = r, g, b, 255\n",
    "    axes[saturation_index][0].imshow(image_measured, aspect=3.6, origin='lower')\n",
    "    axes[saturation_index][1].imshow(image_alphadot, aspect=3.6, origin='lower')\n",
    "    axes[saturation_index][1].imshow(image_discrete, aspect=3.6, origin='lower')"
   ]
  },
  {
   "cell_type": "code",
   "execution_count": null,
   "metadata": {},
   "outputs": [],
   "source": []
  },
  {
   "cell_type": "code",
   "execution_count": null,
   "metadata": {},
   "outputs": [],
   "source": []
  },
  {
   "cell_type": "code",
   "execution_count": null,
   "metadata": {},
   "outputs": [],
   "source": []
  }
 ],
 "metadata": {
  "kernelspec": {
   "display_name": "Python 3",
   "language": "python",
   "name": "python3"
  },
  "language_info": {
   "codemirror_mode": {
    "name": "ipython",
    "version": 3
   },
   "file_extension": ".py",
   "mimetype": "text/x-python",
   "name": "python",
   "nbconvert_exporter": "python",
   "pygments_lexer": "ipython3",
   "version": "3.8.2"
  }
 },
 "nbformat": 4,
 "nbformat_minor": 4
}
