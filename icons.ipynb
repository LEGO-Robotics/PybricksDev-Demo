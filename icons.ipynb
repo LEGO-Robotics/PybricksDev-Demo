{
 "cells": [
  {
   "cell_type": "code",
   "execution_count": null,
   "metadata": {},
   "outputs": [],
   "source": [
    "ICONS_INVERTED = {\n",
    "    \"UP\" : (\n",
    "        (\"⬜⬜⬛⬜⬜\",\n",
    "         \"⬜⬛⬛⬛⬜\",\n",
    "         \"⬛⬛⬛⬛⬛\",\n",
    "         \"⬜⬛⬛⬛⬜\",\n",
    "         \"⬜⬛⬛⬛⬜\")\n",
    "    ),\n",
    "    \"DOWN\" : (\n",
    "        (\"⬜⬛⬛⬛⬜\",\n",
    "         \"⬜⬛⬛⬛⬜\",\n",
    "         \"⬛⬛⬛⬛⬛\",\n",
    "         \"⬜⬛⬛⬛⬜\",\n",
    "         \"⬜⬜⬛⬜⬜\")\n",
    "    ),\n",
    "    \"LEFT\" : (\n",
    "        (\"⬜⬜⬛⬜⬜\",\n",
    "         \"⬜⬛⬛⬛⬛\",\n",
    "         \"⬛⬛⬛⬛⬛\",\n",
    "         \"⬜⬛⬛⬛⬛\",\n",
    "         \"⬜⬜⬛⬜⬜\")\n",
    "    ),\n",
    "    \"RIGHT\" : (\n",
    "        (\"⬜⬜⬛⬜⬜\",\n",
    "         \"⬛⬛⬛⬛⬜\",\n",
    "         \"⬛⬛⬛⬛⬛\",\n",
    "         \"⬛⬛⬛⬛⬜\",\n",
    "         \"⬜⬜⬛⬜⬜\")\n",
    "    ),\n",
    "}"
   ]
  },
  {
   "cell_type": "code",
   "execution_count": null,
   "metadata": {},
   "outputs": [],
   "source": [
    "for name, icon_inverted in ICONS_INVERTED.items():\n",
    "    \n",
    "    print(\"        case MP_QSTR_{0}:\".format(name))\n",
    "    for i, row_inverted in enumerate(icon_inverted):\n",
    "        # Invert the row\n",
    "        \n",
    "        ret = \"return\" if i == 0 else \"      \"\n",
    "        end = \";  \" if i + 1 == len(icon_inverted) else \" | \" \n",
    "        \n",
    "        pixels = row_inverted.replace('⬜', 'W').replace('⬛', '⬜').replace('W', '⬛')\n",
    "        bits = \"\".join([(str(0) if p == '⬛' else str(1)) for p in pixels])\n",
    "        \n",
    "        line = \" \" * 12 + \"{ret} (0b{bits} << {shift:02d}){end} // {pixels}\".format(\n",
    "            ret=ret, pixels=pixels, end=end, bits=bits, shift=(4-i)*5\n",
    "        )\n",
    "        \n",
    "        print(line)"
   ]
  }
 ],
 "metadata": {
  "kernelspec": {
   "display_name": "Python 3",
   "language": "python",
   "name": "python3"
  },
  "language_info": {
   "codemirror_mode": {
    "name": "ipython",
    "version": 3
   },
   "file_extension": ".py",
   "mimetype": "text/x-python",
   "name": "python",
   "nbconvert_exporter": "python",
   "pygments_lexer": "ipython3",
   "version": "3.8.2"
  }
 },
 "nbformat": 4,
 "nbformat_minor": 4
}
