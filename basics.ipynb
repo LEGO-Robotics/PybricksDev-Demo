{
 "cells": [
  {
   "cell_type": "markdown",
   "metadata": {},
   "source": [
    "# Setup\n",
    "\n",
    "Just run all cells to run the demo!\n",
    "\n",
    "### How it works\n",
    "\n",
    "- The first cell below sets up the wireless connection.\n",
    "- The `%%file build/main.py` in the next cell saves the cell content to `build/main.py`\n",
    "- The `hub.run` command in the final cell sends this file to the hub, which runs it.\n",
    "\n",
    "### Tips\n",
    "\n",
    "Go to `help > Edit Keyboard Shortcuts` to bind `run all cells` to your favorite key. \n",
    "This runs all cells *without* restarting Python, so your hub stays connected.\n",
    "With the try/except example below, it connects only the first time, saving you time."
   ]
  },
  {
   "cell_type": "code",
   "execution_count": null,
   "metadata": {},
   "outputs": [],
   "source": [
    "from pybricksdev.connections import BLEPUPConnection\n",
    "from pybricksdev.ble import find_device\n",
    "\n",
    "try:\n",
    "    hub\n",
    "except:\n",
    "    hub = BLEPUPConnection()\n",
    "    \n",
    "    # You can search for the address like this:\n",
    "    # address = await find_device('Pybricks Hub', timeout=5)\n",
    "\n",
    "    await hub.connect('90:84:2B:4A:2B:75')"
   ]
  },
  {
   "cell_type": "code",
   "execution_count": null,
   "metadata": {},
   "outputs": [],
   "source": [
    "%%file build/main.py\n",
    "\n",
    "from pybricks.pupdevices import Motor\n",
    "from pybricks.parameters import Port\n",
    "from pybricks.tools import wait\n",
    "\n",
    "motor = Motor(Port.A)\n",
    "\n",
    "for i in range(3):\n",
    "    motor.run_angle(500, 360)\n",
    "    print(\"Hello!\", i)\n",
    "    wait(1000)"
   ]
  },
  {
   "cell_type": "code",
   "execution_count": null,
   "metadata": {},
   "outputs": [],
   "source": [
    "await hub.run('build/main.py')"
   ]
  }
 ],
 "metadata": {
  "kernelspec": {
   "display_name": "Python 3",
   "language": "python",
   "name": "python3"
  },
  "language_info": {
   "codemirror_mode": {
    "name": "ipython",
    "version": 3
   },
   "file_extension": ".py",
   "mimetype": "text/x-python",
   "name": "python",
   "nbconvert_exporter": "python",
   "pygments_lexer": "ipython3",
   "version": "3.8.2"
  }
 },
 "nbformat": 4,
 "nbformat_minor": 4
}
