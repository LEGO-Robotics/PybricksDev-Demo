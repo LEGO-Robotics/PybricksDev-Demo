{
 "cells": [
  {
   "cell_type": "code",
   "execution_count": null,
   "metadata": {},
   "outputs": [],
   "source": [
    "from pybricksdev.ble import find_device\n",
    "from pybricksdev.connections import BLEConnection\n",
    "from asyncio import gather, sleep\n",
    "import logging\n",
    "\n",
    "class Remote(BLEConnection):\n",
    "    \n",
    "    CHAR_UUID = '00001624-1212-efde-1623-785feabcd123'\n",
    "    \n",
    "    class Keypad():\n",
    "        def __init__(self):\n",
    "            self.left_state = bytes((0, 0, 0))\n",
    "            self.right_state = bytes((0, 0, 0))\n",
    "            self.center_state = 0\n",
    "        \n",
    "        def pressed(self):\n",
    "            # TODO: return Pybricks Button enum tuple\n",
    "            return (self.center_state, self.left_state, self.right_state)\n",
    "\n",
    "    def __init__(self):\n",
    "        super().__init__(self.CHAR_UUID, self.CHAR_UUID, 20)\n",
    "\n",
    "        self.buttons = self.Keypad()\n",
    "    \n",
    "    async def setup(self):\n",
    "        # Thanks @bricknil for documenting the right values\n",
    "        await remote.write(bytes([10, 0, 65, 0, 4, 1, 0, 0, 0, 1]))\n",
    "        await remote.write(bytes([10, 0, 65, 1, 4, 1, 0, 0, 0, 1]))\n",
    "        \n",
    "        color = 6\n",
    "        await remote.write(bytes([8, 0, 129, 52, 1, 81, 0, color]))\n",
    "    \n",
    "    def data_handler(self, sender, data):\n",
    "        \n",
    "        self.logger.debug(sender, data)\n",
    "        \n",
    "        # Parse change in button state\n",
    "        if data[0:3] == bytes((7, 0, 69)):\n",
    "            if data[3]:\n",
    "                self.buttons.left_state = bytes(data[4:])\n",
    "            else:\n",
    "                self.buttons.right_state = bytes(data[4:])\n",
    "        if data[0:4] == bytes((5, 0, 8, 2)):\n",
    "            self.buttons.center_state = data[4]\n",
    "\n",
    "\n",
    "address = await find_device('Handset')\n",
    "print(address)\n",
    "        \n",
    "remote = Remote()\n",
    "await remote.connect(address)\n",
    "await remote.setup()\n"
   ]
  },
  {
   "cell_type": "code",
   "execution_count": null,
   "metadata": {},
   "outputs": [],
   "source": [
    "# Print the button state a few times\n",
    "for i in range(30):\n",
    "    \n",
    "    print(remote.buttons.pressed())\n",
    "    await sleep(0.5)\n",
    "\n",
    "# Disconnect\n",
    "await remote.disconnect()"
   ]
  },
  {
   "cell_type": "code",
   "execution_count": null,
   "metadata": {},
   "outputs": [],
   "source": []
  }
 ],
 "metadata": {
  "kernelspec": {
   "display_name": "Python 3",
   "language": "python",
   "name": "python3"
  },
  "language_info": {
   "codemirror_mode": {
    "name": "ipython",
    "version": 3
   },
   "file_extension": ".py",
   "mimetype": "text/x-python",
   "name": "python",
   "nbconvert_exporter": "python",
   "pygments_lexer": "ipython3",
   "version": "3.8.2"
  }
 },
 "nbformat": 4,
 "nbformat_minor": 4
}
