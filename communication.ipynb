{
 "cells": [
  {
   "cell_type": "markdown",
   "metadata": {},
   "source": [
    "# Setup\n",
    "\n",
    "Make sure you have already tried `basics.ipynb`, then follow the cells and instructions below."
   ]
  },
  {
   "cell_type": "code",
   "execution_count": null,
   "metadata": {},
   "outputs": [],
   "source": [
    "from pybricksdev.connections import BLEPUPConnection, EV3Connection\n",
    "from asyncio import gather\n",
    "\n",
    "try:\n",
    "    hub, ev3\n",
    "except:\n",
    "    hub = BLEPUPConnection()\n",
    "    await hub.connect('90:84:2B:4A:2B:75')\n",
    "    \n",
    "    # You can use any other hub too, including EV3.\n",
    "    ev3 = EV3Connection()\n",
    "    await ev3.connect('192.168.0.102')"
   ]
  },
  {
   "cell_type": "markdown",
   "metadata": {},
   "source": [
    "### This script will run on the Powered up Hub\n",
    "\n",
    "For now we just save it. We will run it later."
   ]
  },
  {
   "cell_type": "code",
   "execution_count": null,
   "metadata": {},
   "outputs": [],
   "source": [
    "%%file build/remote.py\n",
    "\n",
    "from pybricks.pupdevices import Motor\n",
    "from pybricks.parameters import Port\n",
    "from pybricks.tools import wait, StopWatch\n",
    "\n",
    "left = Motor(Port.A)\n",
    "right = Motor(Port.B)\n",
    "\n",
    "watch = StopWatch()\n",
    "\n",
    "while watch.time() < 5000:\n",
    "    print(left.angle(), right.angle())\n",
    "    wait(1000)"
   ]
  },
  {
   "cell_type": "markdown",
   "metadata": {},
   "source": [
    "### This script will run on the EV3\n",
    "\n",
    "For now we just save it. We will run it later."
   ]
  },
  {
   "cell_type": "code",
   "execution_count": null,
   "metadata": {},
   "outputs": [],
   "source": [
    "%%file build/car.py\n",
    "\n",
    "from pybricks.ev3devices import Motor\n",
    "from pybricks.parameters import Port\n",
    "from pybricks.tools import wait, StopWatch\n",
    "\n",
    "left = Motor(Port.B)\n",
    "right = Motor(Port.C)\n",
    "\n",
    "watch = StopWatch()\n",
    "\n",
    "while watch.time() < 5000:\n",
    "    \n",
    "    wait(500)\n",
    "    print(\"EV3!\")"
   ]
  },
  {
   "cell_type": "markdown",
   "metadata": {},
   "source": [
    "### This will run on the PC\n",
    "For now we just save the function. We will run it later."
   ]
  },
  {
   "cell_type": "code",
   "execution_count": null,
   "metadata": {},
   "outputs": [],
   "source": [
    "# We can do anything we want with the data, like displaying it.\n",
    "# In this example, we just send everything received from one hub\n",
    "# to all the other hubs.\n",
    "\n",
    "async def forwarder(*hubs):\n",
    "    pass\n",
    "    # TODO"
   ]
  },
  {
   "cell_type": "markdown",
   "metadata": {},
   "source": [
    "### Run everything\n",
    "\n",
    "This runs both robot scripts and the PC script at the same time."
   ]
  },
  {
   "cell_type": "code",
   "execution_count": null,
   "metadata": {},
   "outputs": [],
   "source": [
    "await gather(\n",
    "    hub.run('build/remote.py'),\n",
    "    ev3.run('build/car.py'),\n",
    "    forwarder(hub, ev3)\n",
    ")"
   ]
  }
 ],
 "metadata": {
  "kernelspec": {
   "display_name": "Python 3",
   "language": "python",
   "name": "python3"
  },
  "language_info": {
   "codemirror_mode": {
    "name": "ipython",
    "version": 3
   },
   "file_extension": ".py",
   "mimetype": "text/x-python",
   "name": "python",
   "nbconvert_exporter": "python",
   "pygments_lexer": "ipython3",
   "version": "3.8.2"
  }
 },
 "nbformat": 4,
 "nbformat_minor": 4
}
