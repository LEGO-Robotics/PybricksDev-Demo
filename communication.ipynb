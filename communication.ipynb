{
 "cells": [
  {
   "cell_type": "markdown",
   "metadata": {},
   "source": [
    "# Setup\n",
    "\n",
    "Make sure you have already tried `basics.ipynb`, then follow the cells and instructions below."
   ]
  },
  {
   "cell_type": "code",
   "execution_count": null,
   "metadata": {},
   "outputs": [],
   "source": [
    "from pybricksdev.connections import BLEPUPConnection, EV3Connection\n",
    "from asyncio import gather, sleep\n",
    "\n",
    "# TODO: Move something like this to Pybricksdev\n",
    "class BLEPUPConnectionExtra(BLEPUPConnection):\n",
    "    def line_handler(self, line):\n",
    "        try:\n",
    "            self.line_buffer.append(line)\n",
    "        except:\n",
    "            self.line_buffer = []\n",
    "        super().line_handler(line)\n",
    "\n",
    "try:\n",
    "    tilt, car\n",
    "except:\n",
    "    car = BLEPUPConnectionExtra()\n",
    "    await car.connect('90:84:2B:4A:2B:75')\n",
    "    \n",
    "    tilt = BLEPUPConnectionExtra()\n",
    "    await tilt.connect('90:84:2B:0A:15:6C')"
   ]
  },
  {
   "cell_type": "markdown",
   "metadata": {},
   "source": [
    "### This script will run on the hub with the tilt sensor\n",
    "\n",
    "For now we just save it. We will run it later."
   ]
  },
  {
   "cell_type": "code",
   "execution_count": null,
   "metadata": {},
   "outputs": [],
   "source": [
    "%%file build/remote.py\n",
    "\n",
    "from pybricks.pupdevices import TiltSensor\n",
    "from pybricks.parameters import Port\n",
    "from pybricks.tools import wait, StopWatch\n",
    "\n",
    "imu = TiltSensor(Port.A)\n",
    "\n",
    "wait(1000)\n",
    "\n",
    "while True:\n",
    "    print(\"__data__{0}\".format(imu.tilt()))\n",
    "    wait(100)"
   ]
  },
  {
   "cell_type": "markdown",
   "metadata": {},
   "source": [
    "### This script will run on the vehicle robot\n",
    "\n",
    "\n",
    "For now we just save it. We will run it later."
   ]
  },
  {
   "cell_type": "code",
   "execution_count": null,
   "metadata": {},
   "outputs": [],
   "source": [
    "%%file build/car.py\n",
    "\n",
    "from pybricks.pupdevices import Motor\n",
    "from pybricks.parameters import Port, Direction\n",
    "from pybricks.tools import wait, StopWatch\n",
    "\n",
    "left = Motor(Port.B, Direction.COUNTERCLOCKWISE)\n",
    "right = Motor(Port.A)\n",
    "\n",
    "while True:\n",
    "    pitch, roll = eval(input())\n",
    "    \n",
    "    left.dc(pitch + roll)\n",
    "    right.dc(pitch - roll)"
   ]
  },
  {
   "cell_type": "markdown",
   "metadata": {},
   "source": [
    "### This will run on the PC\n",
    "For now we just save the function. We will run it later."
   ]
  },
  {
   "cell_type": "code",
   "execution_count": null,
   "metadata": {},
   "outputs": [],
   "source": [
    "# We can do anything we want with the data, like displaying it.\n",
    "# In this example, we just send everything received from one hub\n",
    "# to all the other hubs.\n",
    "\n",
    "DATA = b'__data__'\n",
    "\n",
    "async def forwarder(*hubs):\n",
    "    await sleep(2)\n",
    "    \n",
    "    while any(hub.state == hub.RUNNING for hub in hubs):\n",
    "        for hub in hubs:\n",
    "            while len(hub.line_buffer) > 0:\n",
    "                line = hub.line_buffer.pop(0)\n",
    "                if DATA in line:\n",
    "                    for remote in hubs:\n",
    "                        if remote != hub:  \n",
    "                            await remote.write(line[len(DATA):] + b'\\r\\n')\n",
    "        await sleep(0.1)"
   ]
  },
  {
   "cell_type": "markdown",
   "metadata": {},
   "source": [
    "### Run everything\n",
    "\n",
    "This runs both robot scripts and the PC script at the same time."
   ]
  },
  {
   "cell_type": "code",
   "execution_count": null,
   "metadata": {},
   "outputs": [],
   "source": [
    "await gather(\n",
    "    tilt.run('build/remote.py'),\n",
    "    car.run('build/car.py'),\n",
    "    forwarder(tilt, car)\n",
    ")"
   ]
  },
  {
   "cell_type": "code",
   "execution_count": null,
   "metadata": {},
   "outputs": [],
   "source": []
  },
  {
   "cell_type": "code",
   "execution_count": null,
   "metadata": {},
   "outputs": [],
   "source": []
  }
 ],
 "metadata": {
  "kernelspec": {
   "display_name": "Python 3",
   "language": "python",
   "name": "python3"
  },
  "language_info": {
   "codemirror_mode": {
    "name": "ipython",
    "version": 3
   },
   "file_extension": ".py",
   "mimetype": "text/x-python",
   "name": "python",
   "nbconvert_exporter": "python",
   "pygments_lexer": "ipython3",
   "version": "3.8.2"
  }
 },
 "nbformat": 4,
 "nbformat_minor": 4
}
