{
 "cells": [
  {
   "cell_type": "markdown",
   "metadata": {},
   "source": [
    "# Setup\n",
    "\n",
    "Make sure you have already tried `basics.ipynb`, then follow the cells and instructions below."
   ]
  },
  {
   "cell_type": "code",
   "execution_count": null,
   "metadata": {},
   "outputs": [],
   "source": [
    "from pybricksdev.connections import BLEPUPConnection, EV3Connection\n",
    "from asyncio import gather, sleep\n",
    "\n",
    "car_hub = BLEPUPConnection()\n",
    "await car_hub.connect('00:16:53:AD:A6:A9')\n",
    "\n",
    "remote_hub = BLEPUPConnection()\n",
    "await remote_hub.connect('90:84:2B:4A:8F:7D')"
   ]
  },
  {
   "cell_type": "markdown",
   "metadata": {},
   "source": [
    "### This script will run on the remote hub with a motor that acts as a dial\n",
    "\n",
    "For now we just save it. We will run it later."
   ]
  },
  {
   "cell_type": "code",
   "execution_count": null,
   "metadata": {},
   "outputs": [],
   "source": [
    "%%file build/remote.py\n",
    "\n",
    "from pybricks.pupdevices import Motor\n",
    "from pybricks.parameters import Port\n",
    "from pybricks.tools import wait, StopWatch\n",
    "\n",
    "dial = Motor(Port.A)\n",
    "\n",
    "while True:\n",
    "    \n",
    "    # In this demo, limit angle to 0--255 for simplicity, so it fits in one byte.\n",
    "    angle = max(0, min(dial.angle(), 255))\n",
    "    \n",
    "    # Print the angle to the PC.\n",
    "    print(angle)\n",
    "    wait(10)"
   ]
  },
  {
   "cell_type": "markdown",
   "metadata": {},
   "source": [
    "### This script will run on the vehicle robot\n",
    "\n",
    "\n",
    "For now we just save it. We will run it later."
   ]
  },
  {
   "cell_type": "code",
   "execution_count": null,
   "metadata": {},
   "outputs": [],
   "source": [
    "%%file build/car.py\n",
    "\n",
    "from pybricks.pupdevices import Motor\n",
    "from pybricks.parameters import Port, Direction\n",
    "from pybricks.tools import wait, StopWatch\n",
    "from pybricks.experimental import getchar\n",
    "\n",
    "\n",
    "car_motor = Motor(Port.A)\n",
    "\n",
    "while True:\n",
    "    # The car listens to characters from the PC.\n",
    "    char = getchar()\n",
    "    \n",
    "    # If we have something, use it to set the duty cycle\n",
    "    # of the motor, after scaling 255 to 100\n",
    "    if char is not None:\n",
    "        car_motor.dc(char * 100 // 255)\n",
    "        \n",
    "    wait(5)"
   ]
  },
  {
   "cell_type": "markdown",
   "metadata": {},
   "source": [
    "### This will run on the PC\n",
    "For now we just save the function. We will run it later."
   ]
  },
  {
   "cell_type": "code",
   "execution_count": null,
   "metadata": {},
   "outputs": [],
   "source": [
    "# We can do anything we want with the data, like displaying it.\n",
    "# In this example, we just send the received number from the\n",
    "# remote to the car as a single byte\n",
    "\n",
    "async def forwarder(car_hub, remote_hub):\n",
    "    \n",
    "    # Give the hubs some time to start\n",
    "    await sleep(2)\n",
    "\n",
    "    while car_hub.state == car_hub.RUNNING or remote_hub.state == remote_hub.RUNNING:\n",
    "        # Check if the remote has printed anything\n",
    "        if len(remote_hub.output) > 0:\n",
    "            \n",
    "            # If so, let's see what the most recent value is\n",
    "            line = remote_hub.output[-1]\n",
    "            \n",
    "            # In this demo, we are only interested in the most recent value,\n",
    "            # so we can clear everything else.\n",
    "            remote_hub.output = []\n",
    "            \n",
    "            # Try to convert it to a number and send it as one byte to the receiving hub\n",
    "            try:\n",
    "                angle = int(line.decode())\n",
    "                await car_hub.write(bytes([angle]))\n",
    "            except:\n",
    "                pass\n",
    "        await sleep(0.05)"
   ]
  },
  {
   "cell_type": "markdown",
   "metadata": {},
   "source": [
    "### Run everything\n",
    "\n",
    "This runs both robot scripts and the PC script at the same time.\n",
    "\n",
    "It keeps running until you end both hub scripts using the button."
   ]
  },
  {
   "cell_type": "code",
   "execution_count": null,
   "metadata": {},
   "outputs": [],
   "source": [
    "await gather(\n",
    "    remote_hub.run('build/remote.py', print_output=False),\n",
    "    car_hub.run('build/car.py', print_output=False),\n",
    "    forwarder(car_hub, remote_hub)\n",
    ")"
   ]
  },
  {
   "cell_type": "code",
   "execution_count": null,
   "metadata": {},
   "outputs": [],
   "source": [
    "# Disconnect (optional)\n",
    "\n",
    "await car_hub.disconnect()\n",
    "await remote_hub.disconnect()"
   ]
  },
  {
   "cell_type": "code",
   "execution_count": null,
   "metadata": {},
   "outputs": [],
   "source": []
  }
 ],
 "metadata": {
  "kernelspec": {
   "display_name": "Python 3",
   "language": "python",
   "name": "python3"
  },
  "language_info": {
   "codemirror_mode": {
    "name": "ipython",
    "version": 3
   },
   "file_extension": ".py",
   "mimetype": "text/x-python",
   "name": "python",
   "nbconvert_exporter": "python",
   "pygments_lexer": "ipython3",
   "version": "3.8.2"
  }
 },
 "nbformat": 4,
 "nbformat_minor": 4
}
